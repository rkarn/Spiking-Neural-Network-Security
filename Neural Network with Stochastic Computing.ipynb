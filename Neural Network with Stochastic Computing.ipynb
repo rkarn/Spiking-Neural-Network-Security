{
 "cells": [
  {
   "cell_type": "markdown",
   "id": "13b2f4a1",
   "metadata": {},
   "source": [
    "In this code, generate_bitstream function generates a bitstream with a given probability of '1’s. stochastic_multiply function performs the multiplication operation using an AND gate, which is simulated by the bitwise AND operator &.\n",
    "\n",
    "Please note that the accuracy of this function increases with the length of the bitstream. So, you might need to increase the bitstream length for more accurate results."
   ]
  },
  {
   "cell_type": "code",
   "execution_count": 25,
   "id": "d6555767",
   "metadata": {},
   "outputs": [
    {
     "name": "stdout",
     "output_type": "stream",
     "text": [
      "The stochastic multiplication of 0.6 and 0.7 is approximately 0.407\n"
     ]
    }
   ],
   "source": [
    "import random\n",
    "\n",
    "def generate_bitstream(probability, length=1000):\n",
    "    return [1 if random.random() < probability else 0 for _ in range(length)]\n",
    "\n",
    "def stochastic_multiply(bitstream1, bitstream2):\n",
    "    if len(bitstream1) != len(bitstream2):\n",
    "        raise ValueError(\"Bitstreams must be of the same length\")\n",
    "    multiplied_bitstream = [bit1 & bit2 for bit1, bit2 in zip(bitstream1, bitstream2)]\n",
    "    return sum(multiplied_bitstream) / len(multiplied_bitstream)\n",
    "\n",
    "# Generate bitstreams for numbers 0.6 and 0.7\n",
    "bitstream1 = generate_bitstream(0.6)\n",
    "bitstream2 = generate_bitstream(0.7)\n",
    "\n",
    "# Perform stochastic multiplication\n",
    "result = stochastic_multiply(bitstream1, bitstream2)\n",
    "\n",
    "print(f\"The stochastic multiplication of 0.6 and 0.7 is approximately {result}\")\n"
   ]
  },
  {
   "cell_type": "code",
   "execution_count": 26,
   "id": "71e9e71e",
   "metadata": {
    "scrolled": true
   },
   "outputs": [
    {
     "name": "stdout",
     "output_type": "stream",
     "text": [
      "Epoch 1/10\n",
      "469/469 [==============================] - 5s 10ms/step - loss: 0.2685 - accuracy: 0.9245 - val_loss: 0.1398 - val_accuracy: 0.9582\n",
      "Epoch 2/10\n",
      "469/469 [==============================] - 5s 10ms/step - loss: 0.1085 - accuracy: 0.9686 - val_loss: 0.0924 - val_accuracy: 0.9719\n",
      "Epoch 3/10\n",
      "469/469 [==============================] - 5s 10ms/step - loss: 0.0716 - accuracy: 0.9790 - val_loss: 0.0804 - val_accuracy: 0.9753\n",
      "Epoch 4/10\n",
      "469/469 [==============================] - 4s 9ms/step - loss: 0.0505 - accuracy: 0.9853 - val_loss: 0.0728 - val_accuracy: 0.9771\n",
      "Epoch 5/10\n",
      "469/469 [==============================] - 5s 10ms/step - loss: 0.0371 - accuracy: 0.9891 - val_loss: 0.0663 - val_accuracy: 0.9791\n",
      "Epoch 6/10\n",
      "469/469 [==============================] - 4s 9ms/step - loss: 0.0274 - accuracy: 0.9924 - val_loss: 0.0665 - val_accuracy: 0.9794\n",
      "Epoch 7/10\n",
      "469/469 [==============================] - 4s 10ms/step - loss: 0.0206 - accuracy: 0.9946 - val_loss: 0.0660 - val_accuracy: 0.9802\n",
      "Epoch 8/10\n",
      "469/469 [==============================] - 4s 9ms/step - loss: 0.0155 - accuracy: 0.9958 - val_loss: 0.0646 - val_accuracy: 0.9812\n",
      "Epoch 9/10\n",
      "469/469 [==============================] - 4s 9ms/step - loss: 0.0120 - accuracy: 0.9971 - val_loss: 0.0662 - val_accuracy: 0.9802\n",
      "Epoch 10/10\n",
      "469/469 [==============================] - 4s 10ms/step - loss: 0.0098 - accuracy: 0.9978 - val_loss: 0.0699 - val_accuracy: 0.9811\n",
      "313/313 [==============================] - 1s 2ms/step - loss: 0.0699 - accuracy: 0.9811\n"
     ]
    }
   ],
   "source": [
    "import tensorflow as tf\n",
    "from tensorflow.keras.datasets import mnist\n",
    "\n",
    "# Load MNIST dataset\n",
    "(x_train, y_train), (x_test, y_test) = mnist.load_data()\n",
    "\n",
    "# Preprocess the data\n",
    "x_train = x_train.reshape(60000, 784).astype('float32') / 255\n",
    "x_test = x_test.reshape(10000, 784).astype('float32') / 255\n",
    "y_train = tf.keras.utils.to_categorical(y_train, 10)\n",
    "y_test = tf.keras.utils.to_categorical(y_test, 10)\n",
    "\n",
    "# Build the MLP model\n",
    "model = tf.keras.models.Sequential([\n",
    "    tf.keras.layers.Dense(512, activation='relu', input_shape=(784,)),  # Hidden layer\n",
    "    tf.keras.layers.Dense(10, activation='softmax')  # Output layer\n",
    "])\n",
    "\n",
    "# Compile the model\n",
    "model.compile(loss='categorical_crossentropy',\n",
    "              optimizer='adam',\n",
    "              metrics=['accuracy'])\n",
    "\n",
    "# Train the model\n",
    "model.fit(x_train, y_train,\n",
    "          batch_size=128,\n",
    "          epochs=10,\n",
    "          verbose=1,\n",
    "          validation_data=(x_test, y_test))\n",
    "loss,acc = model.evaluate(x_test, y_test)"
   ]
  },
  {
   "cell_type": "code",
   "execution_count": 27,
   "id": "c1bc8041",
   "metadata": {},
   "outputs": [
    {
     "name": "stdout",
     "output_type": "stream",
     "text": [
      "0.06990212202072144 0.9811000227928162\n"
     ]
    }
   ],
   "source": [
    "print(loss,acc)"
   ]
  },
  {
   "cell_type": "code",
   "execution_count": 29,
   "id": "d5cda59a",
   "metadata": {},
   "outputs": [
    {
     "ename": "IndexError",
     "evalue": "index 512 is out of bounds for axis 0 with size 512",
     "output_type": "error",
     "traceback": [
      "\u001b[1;31m---------------------------------------------------------------------------\u001b[0m",
      "\u001b[1;31mIndexError\u001b[0m                                Traceback (most recent call last)",
      "\u001b[1;32m~\\AppData\\Local\\Temp\\ipykernel_54820\\2782883876.py\u001b[0m in \u001b[0;36m<module>\u001b[1;34m\u001b[0m\n\u001b[0;32m     26\u001b[0m \u001b[1;31m# Perform stochastic forward pass for inference\u001b[0m\u001b[1;33m\u001b[0m\u001b[1;33m\u001b[0m\u001b[0m\n\u001b[0;32m     27\u001b[0m \u001b[1;31m# For example, if you have some test data 'x_test'\u001b[0m\u001b[1;33m\u001b[0m\u001b[1;33m\u001b[0m\u001b[0m\n\u001b[1;32m---> 28\u001b[1;33m \u001b[0moutputs\u001b[0m \u001b[1;33m=\u001b[0m \u001b[0mstochastic_forward_pass\u001b[0m\u001b[1;33m(\u001b[0m\u001b[0mx_test\u001b[0m\u001b[1;33m[\u001b[0m\u001b[1;36m0\u001b[0m\u001b[1;33m]\u001b[0m\u001b[1;33m,\u001b[0m \u001b[0mmodel\u001b[0m\u001b[1;33m)\u001b[0m\u001b[1;33m\u001b[0m\u001b[1;33m\u001b[0m\u001b[0m\n\u001b[0m",
      "\u001b[1;32m~\\AppData\\Local\\Temp\\ipykernel_54820\\2782883876.py\u001b[0m in \u001b[0;36mstochastic_forward_pass\u001b[1;34m(inputs, model)\u001b[0m\n\u001b[0;32m     11\u001b[0m                 \u001b[1;31m# Convert inputs and weights to bitstreams\u001b[0m\u001b[1;33m\u001b[0m\u001b[1;33m\u001b[0m\u001b[0m\n\u001b[0;32m     12\u001b[0m                 \u001b[0minput_bitstream\u001b[0m \u001b[1;33m=\u001b[0m \u001b[0mgenerate_bitstream\u001b[0m\u001b[1;33m(\u001b[0m\u001b[0minputs\u001b[0m\u001b[1;33m[\u001b[0m\u001b[0mj\u001b[0m\u001b[1;33m]\u001b[0m\u001b[1;33m)\u001b[0m\u001b[1;33m\u001b[0m\u001b[1;33m\u001b[0m\u001b[0m\n\u001b[1;32m---> 13\u001b[1;33m                 \u001b[0mweight_bitstream\u001b[0m \u001b[1;33m=\u001b[0m \u001b[0mgenerate_bitstream\u001b[0m\u001b[1;33m(\u001b[0m\u001b[0mweights\u001b[0m\u001b[1;33m[\u001b[0m\u001b[0mj\u001b[0m\u001b[1;33m]\u001b[0m\u001b[1;33m[\u001b[0m\u001b[0mi\u001b[0m\u001b[1;33m]\u001b[0m\u001b[1;33m)\u001b[0m\u001b[1;33m\u001b[0m\u001b[1;33m\u001b[0m\u001b[0m\n\u001b[0m\u001b[0;32m     14\u001b[0m \u001b[1;33m\u001b[0m\u001b[0m\n\u001b[0;32m     15\u001b[0m                 \u001b[1;31m# Use stochastic multiplication instead of regular multiplication\u001b[0m\u001b[1;33m\u001b[0m\u001b[1;33m\u001b[0m\u001b[0m\n",
      "\u001b[1;31mIndexError\u001b[0m: index 512 is out of bounds for axis 0 with size 512"
     ]
    }
   ],
   "source": [
    "def stochastic_forward_pass(inputs, model):\n",
    "    # Loop over all layers in the model\n",
    "    for layer in model.layers:\n",
    "        weights, bias = layer.get_weights()\n",
    "\n",
    "        # Perform stochastic forward pass for this layer\n",
    "        new_inputs = []\n",
    "        for i in range(len(weights)):\n",
    "            output = 0\n",
    "            for j in range(len(inputs)):\n",
    "                # Convert inputs and weights to bitstreams\n",
    "                input_bitstream = generate_bitstream(inputs[j])\n",
    "                weight_bitstream = generate_bitstream(weights[j][i])\n",
    "\n",
    "                # Use stochastic multiplication instead of regular multiplication\n",
    "                output += stochastic_multiply(input_bitstream, weight_bitstream)\n",
    "            output += bias[i]\n",
    "            new_inputs.append(output)\n",
    "        inputs = new_inputs\n",
    "\n",
    "    # Apply softmax to the output of the last layer\n",
    "    outputs = np.exp(inputs) / np.sum(np.exp(inputs))\n",
    "\n",
    "    return outputs\n",
    "\n",
    "# Perform stochastic forward pass for inference\n",
    "# For example, if you have some test data 'x_test'\n",
    "outputs = stochastic_forward_pass(x_test[0], model)"
   ]
  },
  {
   "cell_type": "code",
   "execution_count": null,
   "id": "5a73f24e",
   "metadata": {},
   "outputs": [],
   "source": []
  }
 ],
 "metadata": {
  "kernelspec": {
   "display_name": "Python 3 (ipykernel)",
   "language": "python",
   "name": "python3"
  },
  "language_info": {
   "codemirror_mode": {
    "name": "ipython",
    "version": 3
   },
   "file_extension": ".py",
   "mimetype": "text/x-python",
   "name": "python",
   "nbconvert_exporter": "python",
   "pygments_lexer": "ipython3",
   "version": "3.9.13"
  }
 },
 "nbformat": 4,
 "nbformat_minor": 5
}
